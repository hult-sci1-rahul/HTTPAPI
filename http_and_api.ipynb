{
 "cells": [
  {
   "cell_type": "markdown",
   "metadata": {},
   "source": [
    "# HTTP and APIs"
   ]
  },
  {
   "cell_type": "code",
   "execution_count": 2,
   "metadata": {
    "collapsed": false,
    "jupyter": {
     "outputs_hidden": false
    }
   },
   "outputs": [],
   "source": [
    "%matplotlib inline\n",
    "import numpy as np\n",
    "import matplotlib.pyplot as plt\n",
    "import pandas as pd\n",
    "import seaborn as sns"
   ]
  },
  {
   "cell_type": "markdown",
   "metadata": {},
   "source": [
    "## Web Servers and the Web"
   ]
  },
  {
   "cell_type": "markdown",
   "metadata": {},
   "source": [
    "![](images/wikipedia_main.png)"
   ]
  },
  {
   "cell_type": "markdown",
   "metadata": {},
   "source": [
    "## HTTP\n",
    "\n",
    "![inline](images/wikipedia_404.png)\n",
    "\n"
   ]
  },
  {
   "cell_type": "markdown",
   "metadata": {},
   "source": [
    "### HTTP Status Codes\n",
    "\n",
    "(from  http://www.garshol.priv.no/download/text/http-tut.htm)\n",
    "\n",
    "- 200 OK:\n",
    "    Means that the server did whatever the client wanted it to, and all is well.\n",
    "\n",
    "- 201 Created:\n",
    "    The request has been fulfilled and resulted in a new resource being created. The newly created resource can be referenced by the URI(s) returned in the entity of the response, with the most specific URI for the resource given by a Location header field.\n",
    "\n",
    "- 400: Bad request\n",
    "    The request sent by the client didn't have the correct syntax.\n",
    "\n",
    "- 401: Unauthorized\n",
    "    Means that the client is not allowed to access the resource. This may change if the client retries with an authorization header.\n",
    "\n",
    "- 403: Forbidden\n",
    "    The client is not allowed to access the resource and authorization will not help.\n",
    "\n",
    "- 404: Not found\n",
    "    Seen this one before? :) It means that the server has not heard of the resource and has no further clues as to what the client should do about it. In other words: dead link.\n",
    "\n",
    "- 500: Internal server error\n",
    "    Something went wrong inside the server.\n",
    "\n",
    "- 501: Not implemented\n",
    "    The request method is not supported by the server."
   ]
  },
  {
   "cell_type": "markdown",
   "metadata": {},
   "source": [
    "## Using `requests`\n",
    "\n",
    "You might need to retrieve some data from the Internet. Python has many built-in libraries that were developed over the years to do exactly that (e.g. urllib, urllib2, urllib3).\n",
    "\n",
    "However, these libraries are very low-level and somewhat hard to use. They become especially cumbersome when you need to issue POST requests or authenticate against a web service.\n",
    "\n",
    "Luckily, as with most tasks in Python, someone has developed a library that simplifies these tasks. Get acquainted to `requests` as soon as possible, since you will probably need it in the future."
   ]
  },
  {
   "cell_type": "code",
   "execution_count": 5,
   "metadata": {},
   "outputs": [],
   "source": [
    "import requests"
   ]
  },
  {
   "cell_type": "markdown",
   "metadata": {},
   "source": [
    "Now that the requests library was imported into our namespace, we can use the functions offered by it.\n",
    "\n",
    "In this case we'll use the appropriately named `get` function to issue a *GET* request. This is equivalent to typing a URL into your browser and hitting enter."
   ]
  },
  {
   "cell_type": "markdown",
   "metadata": {},
   "source": [
    "### GET"
   ]
  },
  {
   "cell_type": "code",
   "execution_count": 10,
   "metadata": {},
   "outputs": [
    {
     "data": {
      "text/plain": [
       "<Response [200]>"
      ]
     },
     "execution_count": 10,
     "metadata": {},
     "output_type": "execute_result"
    }
   ],
   "source": [
    "resp = requests.get(\"https://en.wikipedia.org/wiki/Harvard_University\")\n",
    "resp"
   ]
  },
  {
   "cell_type": "markdown",
   "metadata": {},
   "source": [
    "Python is an Object Oriented language, and everything on it is an object. Even built-in functions such as `len` are just syntactic sugar for acting on object properties.\n",
    "\n",
    "We will not dwell too long on OO concepts, but some of Python's idiosyncrasies will be easier to understand if we spend a few minutes on this subject.\n",
    "\n",
    "When you evaluate an object itself, such as the `resp` object we created above, Python will automatically call the `__str__()` or `__repr__()` method of that object. The default values for these methods are usually very simple and boring. The `req` object however has a custom implementation that shows the object type (i.e. `Response`) and the HTTP status number (200 means the request was successful)."
   ]
  },
  {
   "cell_type": "markdown",
   "metadata": {},
   "source": [
    "Just to confirm, we will call the `type` function on the object to make sure it agrees with the value above."
   ]
  },
  {
   "cell_type": "code",
   "execution_count": 51,
   "metadata": {},
   "outputs": [
    {
     "data": {
      "text/plain": [
       "requests.models.Response"
      ]
     },
     "execution_count": 51,
     "metadata": {},
     "output_type": "execute_result"
    }
   ],
   "source": [
    "type(resp)"
   ]
  },
  {
   "cell_type": "code",
   "execution_count": 11,
   "metadata": {},
   "outputs": [
    {
     "data": {
      "text/plain": [
       "200"
      ]
     },
     "execution_count": 11,
     "metadata": {},
     "output_type": "execute_result"
    }
   ],
   "source": [
    "resp.status_code"
   ]
  },
  {
   "cell_type": "markdown",
   "metadata": {},
   "source": [
    "![](images/hwiki.png)"
   ]
  },
  {
   "cell_type": "markdown",
   "metadata": {},
   "source": [
    "Right now `resp` holds a reference to a *Request* object; but we are interested in the text associated with the web page, not the object itself.\n",
    "\n",
    "So the next step is to assign the value of the `text` property of this `Request` object to a variable."
   ]
  },
  {
   "cell_type": "code",
   "execution_count": 16,
   "metadata": {},
   "outputs": [
    {
     "data": {
      "text/plain": [
       "'pload.wikimedia.org\"/>\\n<link rel=\"alternate\" media=\"only screen and (max-width: 720px)\" href=\"//en.m.wikipedia.org/wiki/Harvard_University\"/>\\n<link rel=\"apple-touch-icon\" href=\"/static/apple-touch/wikipedia.png\"/>\\n<link rel=\"shortcut icon\" href=\"/static/favicon/wikipedia.ico\"/>\\n<link rel=\"search\" type=\"application/opensearchdescription+xml\" href=\"/w/opensearch_desc.php\" title=\"Wikipedia (en)\"/>\\n<link rel=\"EditURI\" type=\"application/rsd+xml\" href=\"//en.wikipedia.org/w/api.php?action=rsd\"/>\\n<link rel=\"license\" href=\"//creativecommons.org/licenses/by-sa/3.0/\"/>\\n<link rel=\"canonical\" href=\"https://en.wikipedia.org/wiki/Harvard_University\"/>\\n<link rel=\"dns-prefetch\" href=\"//login.wikimedia.org\"/>\\n<link rel=\"dns-prefetch\" href=\"//meta.wikimedia.org\" />\\n</head>\\n<body class=\"mediawiki ltr sitedir-ltr mw-hide-empty-elt ns-0 ns-subject page-Harvard_University rootpage-Harvard_University skin-vector action-view skin-vector-legacy\"><div id=\"mw-page-base\" class=\"noprint\"></div>\\n<div id=\"mw-head-base\" class=\"noprint\"></div>\\n<div id=\"content\" class=\"mw-body\" role=\"main\">\\n\\t<a id=\"top\"></a>\\n\\t<div id=\"siteNotice\" class=\"mw-body-content\"><!-- CentralNotice --></div>\\n\\t<div class=\"mw-indicators mw-body-content\">\\n\\t<div id=\"mw-indicator-pp-default\" class=\"mw-indicator\"><a href=\"/wiki/Wikipedia:Protection_policy#semi\" title=\"This article is semi-protected due to vandalism\"><img alt=\"Page semi-protected\" src=\"//upload.wikimedia.org/wikipedia/en/thumb/1/1b/Semi-protection-shackle.svg/20px-Semi-protection-shackle.svg.png\" decoding=\"async\" width=\"20\" height=\"20\" srcset=\"//upload.wikimedia.org/wikipedia/en/thumb/1/1b/Semi-protection-shackle.svg/30px-Semi-protection-shackle.svg.png 1.5x, //upload.wikimedia.org/wikipedia/en/thumb/1/1b/Semi-protection-shackle.svg/40px-Semi-protection-shackle.svg.png 2x\" data-file-width=\"512\" data-file-height=\"512\" /></a></div>\\n\\t</div>\\n\\t<h1 id=\"firstHeading\" class=\"firstHeading\" lang=\"en\">Harvard University</h1>\\n\\t<div id=\"bodyContent\" class=\"mw-body-content\">\\n\\t\\t<di'"
      ]
     },
     "execution_count": 16,
     "metadata": {},
     "output_type": "execute_result"
    }
   ],
   "source": [
    "resp.text[6000:8000]"
   ]
  },
  {
   "cell_type": "markdown",
   "metadata": {},
   "source": [
    "## APIs"
   ]
  },
  {
   "cell_type": "code",
   "execution_count": 36,
   "metadata": {
    "collapsed": false,
    "jupyter": {
     "outputs_hidden": false
    }
   },
   "outputs": [
    {
     "data": {
      "text/plain": [
       "{'action': 'query',\n",
       " 'format': 'json',\n",
       " 'prop': 'revisions',\n",
       " 'rvprop': 'content',\n",
       " 'titles': 'Capitol Attack'}"
      ]
     },
     "execution_count": 36,
     "metadata": {},
     "output_type": "execute_result"
    }
   ],
   "source": [
    "#http://www.mediawiki.org/wiki/API:Main_page\n",
    "import requests\n",
    "#from urllib3 import quote\n",
    "WIKIPEDIA='http://en.wikipedia.org/w/api.php'\n",
    "querydict={'action':'query', 'format':'json', 'prop':'revisions', 'rvprop':'content', 'titles':'Capitol Attack'}\n",
    "#querydict={k:quote(v) for k, v in querydict.items()}\n",
    "querydict"
   ]
  },
  {
   "cell_type": "code",
   "execution_count": 37,
   "metadata": {
    "collapsed": false,
    "jupyter": {
     "outputs_hidden": false
    }
   },
   "outputs": [],
   "source": [
    "query_string = \"?\"+\"&\".join([k+\"=\"+v for k,v in querydict.items()])\n",
    "r = requests.get(WIKIPEDIA+query_string)"
   ]
  },
  {
   "cell_type": "code",
   "execution_count": 38,
   "metadata": {
    "collapsed": false,
    "jupyter": {
     "outputs_hidden": false
    }
   },
   "outputs": [
    {
     "data": {
      "text/plain": [
       "{'batchcomplete': '',\n",
       " 'query': {'pages': {'-1': {'ns': 0,\n",
       "    'title': 'Capitol Attack',\n",
       "    'missing': ''}}}}"
      ]
     },
     "execution_count": 38,
     "metadata": {},
     "output_type": "execute_result"
    }
   ],
   "source": [
    "r.json()"
   ]
  },
  {
   "cell_type": "code",
   "execution_count": 47,
   "metadata": {},
   "outputs": [
    {
     "data": {
      "text/plain": [
       "<Response [200]>"
      ]
     },
     "execution_count": 47,
     "metadata": {},
     "output_type": "execute_result"
    }
   ],
   "source": [
    "APISTART=\"https://api.github.com/\"\n",
    "resp_api = requests.get(APISTART+\"users/rahuldave\")\n",
    "resp_api"
   ]
  },
  {
   "cell_type": "code",
   "execution_count": 48,
   "metadata": {},
   "outputs": [
    {
     "data": {
      "text/plain": [
       "'{\"login\":\"rahuldave\",\"id\":43227,\"node_id\":\"MDQ6VXNlcjQzMjI3\",\"avatar_url\":\"https://avatars3.githubusercontent.com/u/43227?v=4\",\"gravatar_id\":\"\",\"url\":\"https://api.github.com/users/rahuldave\",\"html_url\":\"https://github.com/rahuldave\",\"followers_url\":\"https://api.github.com/users/rahuldave/followers\",\"following_url\":\"https://api.github.com/users/rahuldave/following{/other_user}\",\"gists_url\":\"https://api.github.com/users/rahuldave/gists{/gist_id}\",\"starred_url\":\"https://api.github.com/users/rahuldave/starred{/owner}{/repo}\",\"subscriptions_url\":\"https://api.github.com/users/rahuldave/subscriptions\",\"organizations_url\":\"https://api.github.com/users/rahuldave/orgs\",\"repos_url\":\"https://api.github.com/users/rahuldave/repos\",\"events_url\":\"https://api.github.com/users/rahuldave/events{/privacy}\",\"received_events_url\":\"https://api.github.com/users/rahuldave/received_events\",\"type\":\"User\",\"site_admin\":false,\"name\":\"Rahul Dave\",\"company\":\"Harvard University/univ.ai\",\"blog\":\"https://univ.ai\",\"location\":\"Somerville, MA\",\"email\":null,\"hireable\":null,\"bio\":null,\"twitter_username\":null,\"public_repos\":119,\"public_gists\":9,\"followers\":317,\"following\":1,\"created_at\":\"2008-12-29T23:34:27Z\",\"updated_at\":\"2021-01-19T20:51:21Z\"}'"
      ]
     },
     "execution_count": 48,
     "metadata": {},
     "output_type": "execute_result"
    }
   ],
   "source": [
    "resp_api.text"
   ]
  },
  {
   "cell_type": "code",
   "execution_count": 49,
   "metadata": {},
   "outputs": [
    {
     "data": {
      "text/plain": [
       "{'login': 'rahuldave',\n",
       " 'id': 43227,\n",
       " 'node_id': 'MDQ6VXNlcjQzMjI3',\n",
       " 'avatar_url': 'https://avatars3.githubusercontent.com/u/43227?v=4',\n",
       " 'gravatar_id': '',\n",
       " 'url': 'https://api.github.com/users/rahuldave',\n",
       " 'html_url': 'https://github.com/rahuldave',\n",
       " 'followers_url': 'https://api.github.com/users/rahuldave/followers',\n",
       " 'following_url': 'https://api.github.com/users/rahuldave/following{/other_user}',\n",
       " 'gists_url': 'https://api.github.com/users/rahuldave/gists{/gist_id}',\n",
       " 'starred_url': 'https://api.github.com/users/rahuldave/starred{/owner}{/repo}',\n",
       " 'subscriptions_url': 'https://api.github.com/users/rahuldave/subscriptions',\n",
       " 'organizations_url': 'https://api.github.com/users/rahuldave/orgs',\n",
       " 'repos_url': 'https://api.github.com/users/rahuldave/repos',\n",
       " 'events_url': 'https://api.github.com/users/rahuldave/events{/privacy}',\n",
       " 'received_events_url': 'https://api.github.com/users/rahuldave/received_events',\n",
       " 'type': 'User',\n",
       " 'site_admin': False,\n",
       " 'name': 'Rahul Dave',\n",
       " 'company': 'Harvard University/univ.ai',\n",
       " 'blog': 'https://univ.ai',\n",
       " 'location': 'Somerville, MA',\n",
       " 'email': None,\n",
       " 'hireable': None,\n",
       " 'bio': None,\n",
       " 'twitter_username': None,\n",
       " 'public_repos': 119,\n",
       " 'public_gists': 9,\n",
       " 'followers': 317,\n",
       " 'following': 1,\n",
       " 'created_at': '2008-12-29T23:34:27Z',\n",
       " 'updated_at': '2021-01-19T20:51:21Z'}"
      ]
     },
     "execution_count": 49,
     "metadata": {},
     "output_type": "execute_result"
    }
   ],
   "source": [
    "resp_api.json()"
   ]
  },
  {
   "cell_type": "markdown",
   "metadata": {},
   "source": [
    "Most APIs have security restrictions:\n",
    "\n",
    "![](images/github_personal_token.png)\n",
    "\n",
    "You can create your own at [https://github.com/settings/tokens](https://github.com/settings/tokens). I chose here a very low access scope so you cant mess with my information..you can only see my public repositories)"
   ]
  },
  {
   "cell_type": "code",
   "execution_count": 50,
   "metadata": {},
   "outputs": [
    {
     "data": {
      "text/plain": [
       "{'login': 'rahuldave',\n",
       " 'id': 43227,\n",
       " 'node_id': 'MDQ6VXNlcjQzMjI3',\n",
       " 'avatar_url': 'https://avatars3.githubusercontent.com/u/43227?v=4',\n",
       " 'gravatar_id': '',\n",
       " 'url': 'https://api.github.com/users/rahuldave',\n",
       " 'html_url': 'https://github.com/rahuldave',\n",
       " 'followers_url': 'https://api.github.com/users/rahuldave/followers',\n",
       " 'following_url': 'https://api.github.com/users/rahuldave/following{/other_user}',\n",
       " 'gists_url': 'https://api.github.com/users/rahuldave/gists{/gist_id}',\n",
       " 'starred_url': 'https://api.github.com/users/rahuldave/starred{/owner}{/repo}',\n",
       " 'subscriptions_url': 'https://api.github.com/users/rahuldave/subscriptions',\n",
       " 'organizations_url': 'https://api.github.com/users/rahuldave/orgs',\n",
       " 'repos_url': 'https://api.github.com/users/rahuldave/repos',\n",
       " 'events_url': 'https://api.github.com/users/rahuldave/events{/privacy}',\n",
       " 'received_events_url': 'https://api.github.com/users/rahuldave/received_events',\n",
       " 'type': 'User',\n",
       " 'site_admin': False,\n",
       " 'name': 'Rahul Dave',\n",
       " 'company': 'Harvard University/univ.ai',\n",
       " 'blog': 'https://univ.ai',\n",
       " 'location': 'Somerville, MA',\n",
       " 'email': None,\n",
       " 'hireable': None,\n",
       " 'bio': None,\n",
       " 'twitter_username': None,\n",
       " 'public_repos': 119,\n",
       " 'public_gists': 9,\n",
       " 'followers': 317,\n",
       " 'following': 1,\n",
       " 'created_at': '2008-12-29T23:34:27Z',\n",
       " 'updated_at': '2021-01-19T20:51:21Z'}"
      ]
     },
     "execution_count": 50,
     "metadata": {},
     "output_type": "execute_result"
    }
   ],
   "source": [
    "access_token=\"b325143eca7a84e28b4d217a6455f09014076ecb\"\n",
    "headers = {'Authorization': 'token '+access_token}\n",
    "the_json = requests.get(APISTART+\"user\", headers=headers).json()\n",
    "the_json"
   ]
  },
  {
   "cell_type": "code",
   "execution_count": 45,
   "metadata": {},
   "outputs": [
    {
     "data": {
      "text/plain": [
       "317"
      ]
     },
     "execution_count": 45,
     "metadata": {},
     "output_type": "execute_result"
    }
   ],
   "source": [
    "the_json['followers']"
   ]
  }
 ],
 "metadata": {
  "kernelspec": {
   "display_name": "ml1-arm64",
   "language": "python",
   "name": "ml1-arm64"
  },
  "language_info": {
   "codemirror_mode": {
    "name": "ipython",
    "version": 3
   },
   "file_extension": ".py",
   "mimetype": "text/x-python",
   "name": "python",
   "nbconvert_exporter": "python",
   "pygments_lexer": "ipython3",
   "version": "3.9.1"
  }
 },
 "nbformat": 4,
 "nbformat_minor": 4
}
